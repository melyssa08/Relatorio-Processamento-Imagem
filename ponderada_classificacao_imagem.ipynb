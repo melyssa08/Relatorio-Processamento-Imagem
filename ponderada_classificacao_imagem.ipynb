{
  "nbformat": 4,
  "nbformat_minor": 0,
  "metadata": {
    "colab": {
      "provenance": []
    },
    "kernelspec": {
      "name": "python3",
      "display_name": "Python 3"
    },
    "language_info": {
      "name": "python"
    }
  },
  "cells": [
    {
      "cell_type": "code",
      "source": [
        "from google.colab import drive\n",
        "drive.mount('/content/drive')"
      ],
      "metadata": {
        "colab": {
          "base_uri": "https://localhost:8080/"
        },
        "id": "6yV2tgHysxgv",
        "outputId": "51065a59-5919-4f3d-8a49-f0e54b75bb3f"
      },
      "execution_count": null,
      "outputs": [
        {
          "output_type": "stream",
          "name": "stdout",
          "text": [
            "Mounted at /content/drive\n"
          ]
        }
      ]
    },
    {
      "cell_type": "code",
      "source": [
        "# importando as bibliotecas\n",
        "from tensorflow.keras.applications import InceptionV3\n",
        "from tensorflow.keras.applications.inception_v3 import preprocess_input, decode_predictions\n",
        "import tensorflow as tf\n",
        "import numpy as np\n",
        "from PIL import Image"
      ],
      "metadata": {
        "id": "iR4-tAjqsP3w"
      },
      "execution_count": 3,
      "outputs": []
    },
    {
      "cell_type": "code",
      "source": [
        "# Carrega o modelo InceptionV3\n",
        "model = InceptionV3(weights='imagenet')"
      ],
      "metadata": {
        "id": "Bd9MQRFhsUU7"
      },
      "execution_count": 4,
      "outputs": []
    },
    {
      "cell_type": "code",
      "execution_count": 5,
      "metadata": {
        "id": "gkn0FzOGrsbP"
      },
      "outputs": [],
      "source": [
        "# Caminho da imagem a ser carregada\n",
        "img_path = '/content/drive/MyDrive/ponderada-visa/cachorro_teste.jpg'\n",
        "\n",
        "# Carrega a imagem do caminho especificado, redimensiona para o tamanho alvo (299x299 pixels)\n",
        "img = tf.keras.preprocessing.image.load_img(img_path, target_size=(299, 299))\n",
        "\n",
        "# Converte a imagem em um array numpy\n",
        "img_array = tf.keras.preprocessing.image.img_to_array(img)\n",
        "\n",
        "# Adiciona uma dimensão extra ao array para se adequar ao formato esperado pelo modelo (1, 299, 299, 3)\n",
        "img_array = np.expand_dims(img_array, axis=0)\n",
        "\n",
        "# Pré-processamento adicional da imagem, necessário para alguns modelos de rede neural\n",
        "img_array = preprocess_input(img_array)"
      ]
    },
    {
      "cell_type": "code",
      "source": [
        "# Classifica a imagem usando um modelo previamente treinado\n",
        "# O parâmetro 'img_array' contém a imagem que será classificada\n",
        "\n",
        "# Faz previsões usando o modelo\n",
        "predictions = model.predict(img_array)\n",
        "\n",
        "# Decodifica as previsões em uma lista de tuplas contendo os IDs de classe, as previsões de classe e as probabilidades associadas\n",
        "decoded_predictions = decode_predictions(predictions, top=3)[0]\n",
        "\n",
        "# Imprime as previsões\n",
        "print(decoded_predictions)"
      ],
      "metadata": {
        "id": "FDF0fnqvsYxU",
        "colab": {
          "base_uri": "https://localhost:8080/"
        },
        "outputId": "ab77f7ff-a36f-4f49-df25-11109a05754e"
      },
      "execution_count": 6,
      "outputs": [
        {
          "output_type": "stream",
          "name": "stdout",
          "text": [
            "1/1 [==============================] - 3s 3s/step\n",
            "Downloading data from https://storage.googleapis.com/download.tensorflow.org/data/imagenet_class_index.json\n",
            "35363/35363 [==============================] - 0s 0us/step\n",
            "[('n02099712', 'Labrador_retriever', 0.7879511), ('n02099601', 'golden_retriever', 0.063621275), ('n02104029', 'kuvasz', 0.0053758863)]\n"
          ]
        }
      ]
    }
  ]
}